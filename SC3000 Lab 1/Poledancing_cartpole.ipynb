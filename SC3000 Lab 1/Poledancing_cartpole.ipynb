{
  "nbformat": 4,
  "nbformat_minor": 0,
  "metadata": {
    "colab": {
      "provenance": []
    },
    "kernelspec": {
      "name": "python3",
      "display_name": "Python 3"
    },
    "language_info": {
      "name": "python"
    }
  },
  "cells": [
    {
      "cell_type": "markdown",
      "source": [
        "# Tutorial and Sample Code for Balancing a Pole on a Cart"
      ],
      "metadata": {
        "id": "ZauhjPSfX7pI"
      }
    },
    {
      "cell_type": "markdown",
      "source": [
        "## Installing dependencies:"
      ],
      "metadata": {
        "id": "UBiYOoesYMvr"
      }
    },
    {
      "cell_type": "code",
      "execution_count": null,
      "metadata": {
        "colab": {
          "base_uri": "https://localhost:8080/"
        },
        "id": "PbgnVwZmX5uW",
        "outputId": "ec5b6dcf-e7f3-4978-816f-2df1255b8ebf"
      },
      "outputs": [
        {
          "output_type": "stream",
          "name": "stdout",
          "text": [
            "Looking in indexes: https://pypi.org/simple, https://us-python.pkg.dev/colab-wheels/public/simple/\n",
            "Requirement already satisfied: gym[classic_control] in /usr/local/lib/python3.9/dist-packages (0.25.2)\n",
            "Requirement already satisfied: numpy>=1.18.0 in /usr/local/lib/python3.9/dist-packages (from gym[classic_control]) (1.22.4)\n",
            "Requirement already satisfied: gym-notices>=0.0.4 in /usr/local/lib/python3.9/dist-packages (from gym[classic_control]) (0.0.8)\n",
            "Requirement already satisfied: cloudpickle>=1.2.0 in /usr/local/lib/python3.9/dist-packages (from gym[classic_control]) (2.2.1)\n",
            "Requirement already satisfied: importlib-metadata>=4.8.0 in /usr/local/lib/python3.9/dist-packages (from gym[classic_control]) (6.0.0)\n",
            "Requirement already satisfied: pygame==2.1.0 in /usr/local/lib/python3.9/dist-packages (from gym[classic_control]) (2.1.0)\n",
            "Requirement already satisfied: zipp>=0.5 in /usr/local/lib/python3.9/dist-packages (from importlib-metadata>=4.8.0->gym[classic_control]) (3.15.0)\n",
            "Looking in indexes: https://pypi.org/simple, https://us-python.pkg.dev/colab-wheels/public/simple/\n",
            "Requirement already satisfied: setuptools in /usr/local/lib/python3.9/dist-packages (67.6.0)\n"
          ]
        }
      ],
      "source": [
        "!apt-get install -y xvfb python-opengl > /dev/null 2>&1\n",
        "!pip install gym pyvirtualdisplay > /dev/null 2>&1\n",
        "!pip install gym pyvirtualdisplay > /dev/null 2>&1\n",
        "!apt-get install -y xvfb python-opengl ffmpeg > /dev/null 2>&1\n",
        "!pip install gym[classic_control]\n",
        "!apt-get update > /dev/null 2>&1\n",
        "!apt-get install cmake > /dev/null 2>&1\n",
        "!pip install --upgrade setuptools 2>&1\n",
        "!pip install ez_setup > /dev/null 2>&1"
      ]
    },
    {
      "cell_type": "markdown",
      "source": [
        "## Importing dependencies and define helper functions"
      ],
      "metadata": {
        "id": "RwKbYeTgbaTA"
      }
    },
    {
      "cell_type": "code",
      "source": [
        "import gym\n",
        "from gym import logger as gymlogger\n",
        "from gym.wrappers import RecordVideo\n",
        "gymlogger.set_level(40) #error only\n",
        "import tensorflow as tf\n",
        "import numpy as np\n",
        "import random\n",
        "import matplotlib\n",
        "import matplotlib.pyplot as plt\n",
        "%matplotlib inline\n",
        "import math\n",
        "import glob\n",
        "import io\n",
        "import base64\n",
        "from IPython.display import HTML\n",
        "from IPython import display as ipythondisplay\n",
        "\n",
        "def show_video():\n",
        "  mp4list = glob.glob('video/*.mp4')\n",
        "  if len(mp4list) > 0:\n",
        "    mp4 = mp4list[0]\n",
        "    video = io.open(mp4, 'r+b').read()\n",
        "    encoded = base64.b64encode(video)\n",
        "    ipythondisplay.display(HTML(data='''<video alt=\"test\" autoplay \n",
        "                loop controls style=\"height: 400px;\">\n",
        "                <source src=\"data:video/mp4;base64,{0}\" type=\"video/mp4\" />\n",
        "             </video>'''.format(encoded.decode('ascii'))))\n",
        "  else: \n",
        "    print(\"Could not find video\")"
      ],
      "metadata": {
        "id": "j6KpgCLGYWmj"
      },
      "execution_count": null,
      "outputs": []
    },
    {
      "cell_type": "markdown",
      "source": [
        "## Tutorial: Loading CartPole environment"
      ],
      "metadata": {
        "id": "ehbqP9CXbmo7"
      }
    },
    {
      "cell_type": "code",
      "source": [
        "env = gym.make(\"CartPole-v1\")"
      ],
      "metadata": {
        "id": "Go12dH4qbwBy"
      },
      "execution_count": null,
      "outputs": []
    },
    {
      "cell_type": "markdown",
      "source": [
        "We can check the action and observation space of this environment. Discrete(2) means that there are two valid discrete actions: 0 & 1."
      ],
      "metadata": {
        "id": "9XZ9g3xrcAXE"
      }
    },
    {
      "cell_type": "code",
      "source": [
        "print(env.action_space)"
      ],
      "metadata": {
        "colab": {
          "base_uri": "https://localhost:8080/"
        },
        "id": "ytxvVmLdcRyw",
        "outputId": "ad8d9dcd-0eac-4fd1-fcd5-eef534db8e50"
      },
      "execution_count": null,
      "outputs": [
        {
          "output_type": "stream",
          "name": "stdout",
          "text": [
            "Discrete(2)\n"
          ]
        }
      ]
    },
    {
      "cell_type": "markdown",
      "source": [
        "The observation space is given below. The first two arrays define the min and max values of the 4 observed values, corresponding to cart position, velocity and pole angle, angular velocity."
      ],
      "metadata": {
        "id": "pVXGWi_Ncfg-"
      }
    },
    {
      "cell_type": "code",
      "source": [
        "print(env.observation_space)"
      ],
      "metadata": {
        "colab": {
          "base_uri": "https://localhost:8080/"
        },
        "id": "DyqHr9I5cdkX",
        "outputId": "2f1ab567-6667-4104-ec93-9b9b525a1ac2"
      },
      "execution_count": null,
      "outputs": [
        {
          "output_type": "stream",
          "name": "stdout",
          "text": [
            "Box([-4.8000002e+00 -3.4028235e+38 -4.1887903e-01 -3.4028235e+38], [4.8000002e+00 3.4028235e+38 4.1887903e-01 3.4028235e+38], (4,), float32)\n"
          ]
        }
      ]
    },
    {
      "cell_type": "markdown",
      "source": [
        "We call each round of the pole-balancing game an \"episode\". At the start of each episode, make sure the environment is reset, which chooses a random initial state, e.g., pole slightly tilted to the right. This initialization can be achieved by the code below, which returns the observation of the initial state."
      ],
      "metadata": {
        "id": "HFOdaU2Gdyg0"
      }
    },
    {
      "cell_type": "code",
      "source": [
        "observation = env.reset()\n",
        "print(\"Initial observations:\", observation)"
      ],
      "metadata": {
        "colab": {
          "base_uri": "https://localhost:8080/"
        },
        "id": "VMr6qAqxdOsm",
        "outputId": "82fcdf23-8f84-421d-e46b-e0c8ad2492a9"
      },
      "execution_count": null,
      "outputs": [
        {
          "output_type": "stream",
          "name": "stdout",
          "text": [
            "Initial observations: [-0.02537912  0.02523524 -0.01151945  0.01399305]\n"
          ]
        }
      ]
    },
    {
      "cell_type": "markdown",
      "source": [
        "For the CartPole environment, there are two possible actions: 0 for pushing to the left and 1 for pushing to the right. For example, we can push the cart to the left using code below, which returns the new observation, the current reward, an indicator of whether the game ends, and some additional information (not used in this project). For CartPole, the game ends when the pole is significantly tilted or you manage to balance the pole for 500 steps. You get exactly 1 reward for each step before the game ends (i.e., max cumulative reward is 500)."
      ],
      "metadata": {
        "id": "qnG2QdfbeZrI"
      }
    },
    {
      "cell_type": "code",
      "source": [
        "observation, reward, done, info = env.step(0)\n",
        "print(\"New observations after choosing action 0:\", observation)\n",
        "print(\"Reward for this step:\", reward)\n",
        "print(\"Is this round done?\", done)"
      ],
      "metadata": {
        "colab": {
          "base_uri": "https://localhost:8080/"
        },
        "id": "MmfMDvyYdWGk",
        "outputId": "5ed10fa0-e08c-41ac-bc3d-217f55ee97e0"
      },
      "execution_count": null,
      "outputs": [
        {
          "output_type": "stream",
          "name": "stdout",
          "text": [
            "New observations after choosing action 0: [-0.02487442 -0.16971964 -0.01123959  0.30301932]\n",
            "Reward for this step: 1.0\n",
            "Is this round done? False\n"
          ]
        }
      ]
    },
    {
      "cell_type": "markdown",
      "source": [
        "Now we can play a full round of the game using a naive strategy (always choosing action 0), and show the cumulative reward in the round. Note that reward returned by env.step(*) corresponds to the reward for current step. So we have to accumulate the reward for each step. Clearly, the naive strategy performs poorly by surviving only a dozen of steps."
      ],
      "metadata": {
        "id": "tj0zCh59fhBb"
      }
    },
    {
      "cell_type": "code",
      "source": [
        "observation = env.reset()\n",
        "cumulative_reward = 0\n",
        "done = False\n",
        "while not done:\n",
        "    observation, reward, done, info = env.step(0)\n",
        "    cumulative_reward += reward\n",
        "print(\"Cumulative reward for this round:\", cumulative_reward)"
      ],
      "metadata": {
        "colab": {
          "base_uri": "https://localhost:8080/"
        },
        "id": "AVucQVRwf6Jm",
        "outputId": "ed0613bc-85fe-4e23-a5e3-4ce95def9346"
      },
      "execution_count": null,
      "outputs": [
        {
          "output_type": "stream",
          "name": "stdout",
          "text": [
            "Cumulative reward for this round: 9.0\n"
          ]
        }
      ]
    },
    {
      "cell_type": "markdown",
      "source": [
        "## Task 1: Development of an RL agent"
      ],
      "metadata": {
        "id": "2oIzK9SzhlWN"
      }
    },
    {
      "cell_type": "markdown",
      "source": [
        "An example of a naive agent is given below, which randomly chooses an action regardless of the observation:"
      ],
      "metadata": {
        "id": "Cc6_e5c_huiq"
      }
    },
    {
      "cell_type": "code",
      "source": [
        "def rand_policy_agent(observation):\n",
        "    return random.randint(0, 1)"
      ],
      "metadata": {
        "id": "Hk-M4QEfh6l5"
      },
      "execution_count": null,
      "outputs": []
    },
    {
      "cell_type": "code",
      "source": [
        "state_space = 4 # number of states\n",
        "action_space = 2 # number of possible actions\n",
        "\n",
        "def Qtable(state_space,action_space,bin_size = 30):\n",
        "    \n",
        "    bins = [np.linspace(-4.8,4.8,bin_size),\n",
        "            np.linspace(-4,4,bin_size),\n",
        "            np.linspace(-0.418,0.418,bin_size),\n",
        "            np.linspace(-4,4,bin_size)]\n",
        "    \n",
        "    q_table = np.random.uniform(low=-1,high=1,size=([bin_size] * state_space + [action_space]))\n",
        "    return q_table, bins\n",
        "\n",
        "def Discrete(state, bins):\n",
        "    index = []\n",
        "    for i in range(len(state)): index.append(np.digitize(state[i],bins[i]) - 1)\n",
        "    return tuple(index)\n",
        "  \n",
        "def Q_learning(q_table, bins, episodes = 5000, gamma = 0.95, lr = 0.1, timestep = 100, epsilon = 0.2):\n",
        "    \n",
        "    rewards = 0\n",
        "    steps = 0\n",
        "    for episode in range(1,episodes+1):\n",
        "        steps += 1 \n",
        "        # env.reset() => initial observation\n",
        "        current_state = Discrete(env.reset(),bins)\n",
        "      \n",
        "        score = 0\n",
        "        done = False\n",
        "        while not done: \n",
        "         #if episode%timestep==0: env.render()\n",
        "         if np.random.uniform(0,1) < epsilon:\n",
        "                action = env.action_space.sample()\n",
        "         else:\n",
        "                action = np.argmax(q_table[current_state])\n",
        "         observation, reward, done, info = env.step(action)\n",
        "         next_state = Discrete(observation,bins)\n",
        "         score+=reward\n",
        "          \n",
        "         if not done:\n",
        "                max_future_q = np.max(q_table[next_state])\n",
        "                current_q = q_table[current_state+(action,)]\n",
        "                new_q = (1-lr)*current_q + lr*(reward + gamma*max_future_q)\n",
        "                q_table[current_state+(action,)] = new_q\n",
        "         current_state = next_state\n",
        "            \n",
        "        # End of the loop update\n",
        "        else:\n",
        "            rewards += score\n",
        "            if score > 195 and steps >= 100: print('Solved')\n",
        "        if episode % timestep == 0: print(reward / timestep)"
      ],
      "metadata": {
        "id": "_FPW92Ch9Gh4"
      },
      "execution_count": null,
      "outputs": []
    },
    {
      "cell_type": "code",
      "source": [
        "q_table,bins = Qtable(state_space,action_space,bin_size = 30)\n",
        "Q_learning(q_table,bins)\n",
        "def policy_agent(observation):\n",
        "  current_state = Discrete(observation,bins)\n",
        "  action = np.argmax(q_table[current_state])\n",
        "  return action"
      ],
      "metadata": {
        "colab": {
          "base_uri": "https://localhost:8080/"
        },
        "id": "1KHMuMON9Z6n",
        "outputId": "7876daec-0079-4cac-895e-1e7aff1ccf9e"
      },
      "execution_count": null,
      "outputs": [
        {
          "output_type": "stream",
          "name": "stdout",
          "text": [
            "0.01\n",
            "0.01\n",
            "0.01\n",
            "0.01\n",
            "0.01\n",
            "0.01\n",
            "0.01\n",
            "0.01\n",
            "0.01\n",
            "0.01\n",
            "0.01\n",
            "0.01\n",
            "0.01\n",
            "0.01\n",
            "0.01\n",
            "0.01\n",
            "0.01\n",
            "0.01\n",
            "Solved\n",
            "0.01\n",
            "Solved\n",
            "Solved\n",
            "Solved\n",
            "0.01\n",
            "Solved\n",
            "Solved\n",
            "0.01\n",
            "Solved\n",
            "Solved\n",
            "Solved\n",
            "Solved\n",
            "0.01\n",
            "Solved\n",
            "0.01\n",
            "Solved\n",
            "Solved\n",
            "Solved\n",
            "0.01\n",
            "Solved\n",
            "0.01\n",
            "Solved\n",
            "Solved\n",
            "Solved\n",
            "Solved\n",
            "Solved\n",
            "0.01\n",
            "Solved\n",
            "Solved\n",
            "Solved\n",
            "Solved\n",
            "Solved\n",
            "0.01\n",
            "Solved\n",
            "0.01\n",
            "0.01\n",
            "Solved\n",
            "0.01\n",
            "Solved\n",
            "Solved\n",
            "Solved\n",
            "Solved\n",
            "Solved\n",
            "Solved\n",
            "Solved\n",
            "Solved\n",
            "Solved\n",
            "0.01\n",
            "Solved\n",
            "Solved\n",
            "0.01\n",
            "Solved\n",
            "Solved\n",
            "Solved\n",
            "Solved\n",
            "Solved\n",
            "0.01\n",
            "Solved\n",
            "Solved\n",
            "Solved\n",
            "Solved\n",
            "Solved\n",
            "Solved\n",
            "0.01\n",
            "Solved\n",
            "Solved\n",
            "Solved\n",
            "Solved\n",
            "Solved\n",
            "Solved\n",
            "Solved\n",
            "Solved\n",
            "Solved\n",
            "Solved\n",
            "Solved\n",
            "Solved\n",
            "0.01\n",
            "Solved\n",
            "Solved\n",
            "Solved\n",
            "Solved\n",
            "Solved\n",
            "Solved\n",
            "0.01\n",
            "Solved\n",
            "Solved\n",
            "Solved\n",
            "Solved\n",
            "Solved\n",
            "Solved\n",
            "Solved\n",
            "Solved\n",
            "Solved\n",
            "Solved\n",
            "0.01\n",
            "Solved\n",
            "Solved\n",
            "Solved\n",
            "Solved\n",
            "Solved\n",
            "Solved\n",
            "Solved\n",
            "Solved\n",
            "Solved\n",
            "Solved\n",
            "Solved\n",
            "Solved\n",
            "Solved\n",
            "0.01\n",
            "Solved\n",
            "Solved\n",
            "Solved\n",
            "Solved\n",
            "0.01\n",
            "Solved\n",
            "Solved\n",
            "Solved\n",
            "Solved\n",
            "Solved\n",
            "Solved\n",
            "Solved\n",
            "0.01\n",
            "Solved\n",
            "Solved\n",
            "Solved\n",
            "Solved\n",
            "Solved\n",
            "Solved\n",
            "Solved\n",
            "0.01\n",
            "Solved\n",
            "Solved\n",
            "Solved\n",
            "Solved\n",
            "Solved\n",
            "Solved\n",
            "0.01\n",
            "Solved\n",
            "Solved\n",
            "Solved\n",
            "Solved\n",
            "Solved\n",
            "Solved\n",
            "Solved\n",
            "Solved\n",
            "Solved\n",
            "Solved\n",
            "Solved\n",
            "Solved\n",
            "Solved\n",
            "Solved\n",
            "Solved\n",
            "0.01\n",
            "Solved\n",
            "Solved\n",
            "Solved\n",
            "Solved\n",
            "Solved\n",
            "Solved\n",
            "Solved\n",
            "Solved\n",
            "Solved\n",
            "Solved\n",
            "Solved\n",
            "Solved\n",
            "0.01\n",
            "Solved\n",
            "Solved\n",
            "Solved\n",
            "Solved\n",
            "Solved\n",
            "Solved\n",
            "Solved\n",
            "Solved\n",
            "Solved\n",
            "Solved\n",
            "Solved\n",
            "Solved\n",
            "Solved\n",
            "Solved\n",
            "Solved\n",
            "0.01\n",
            "Solved\n",
            "Solved\n",
            "Solved\n",
            "Solved\n",
            "Solved\n",
            "Solved\n",
            "Solved\n",
            "0.01\n",
            "Solved\n",
            "Solved\n",
            "Solved\n",
            "Solved\n",
            "Solved\n",
            "0.01\n",
            "Solved\n",
            "Solved\n",
            "Solved\n",
            "Solved\n",
            "Solved\n",
            "Solved\n",
            "Solved\n",
            "Solved\n",
            "Solved\n",
            "Solved\n",
            "Solved\n",
            "Solved\n",
            "0.01\n",
            "Solved\n",
            "Solved\n",
            "Solved\n",
            "Solved\n",
            "Solved\n",
            "Solved\n",
            "Solved\n",
            "Solved\n",
            "Solved\n",
            "Solved\n",
            "Solved\n",
            "Solved\n",
            "Solved\n",
            "0.01\n",
            "Solved\n",
            "Solved\n",
            "Solved\n",
            "Solved\n",
            "Solved\n",
            "Solved\n",
            "0.01\n"
          ]
        }
      ]
    },
    {
      "cell_type": "markdown",
      "source": [
        "For Task 1, we can show the observation and chosen action below:"
      ],
      "metadata": {
        "id": "RAi7KKwNiegR"
      }
    },
    {
      "cell_type": "code",
      "source": [
        "observation = env.reset()\n",
        "action = rand_policy_agent(observation)\n",
        "print(\"Observation:\", observation)\n",
        "print(\"Chosen action:\", action)"
      ],
      "metadata": {
        "colab": {
          "base_uri": "https://localhost:8080/"
        },
        "id": "ae2ia-vUiNKJ",
        "outputId": "4f2be6b0-3cfd-4404-8015-bf6e973de79c"
      },
      "execution_count": null,
      "outputs": [
        {
          "output_type": "stream",
          "name": "stdout",
          "text": [
            "Observation: [ 0.04214313 -0.00500244 -0.01085769 -0.03740041]\n",
            "Chosen action: 1\n"
          ]
        }
      ]
    },
    {
      "cell_type": "markdown",
      "source": [
        "## Task 2: Demonstrate the effectiveness of the RL agent"
      ],
      "metadata": {
        "id": "-XtIQ0Rti1gm"
      }
    },
    {
      "cell_type": "markdown",
      "source": [
        "For this task, use the agent developed in Task 1 to play the game for 100 episodes (refer to tutorial for how to play a round), record the cumulative reward for each round, and plot the reward for each round. A sample plotting code is given below. Note that you must include code to play for 100 episodes and use the code to obtain round_results for plotting. DO NOT record the round results in advance and paste the results to the notebook."
      ],
      "metadata": {
        "id": "djBEShf0kGI4"
      }
    },
    {
      "cell_type": "markdown",
      "source": [
        "### Function to play game for a single episode"
      ],
      "metadata": {
        "id": "1GCPZXAHwbqY"
      }
    },
    {
      "cell_type": "code",
      "source": [
        "def play_game(env, policy):\n",
        "  observation = env.reset()\n",
        "\n",
        "  done = False\n",
        "  score = 0\n",
        "  observations = []\n",
        "  \n",
        "  while not done:\n",
        "    observations += [observation.tolist()] # Record the observations for normalization and replay\n",
        "        \n",
        "    # Pick an action according to the policy matrix\n",
        "    #outcome = np.dot(policy, observation)\n",
        "    outcome = policy_agent(observation)\n",
        "    action = 1 if outcome > 0 else 0\n",
        "    \n",
        "    # Make the action, record reward\n",
        "    observation, reward, done, info = env.step(action)\n",
        "    score += reward\n",
        "\n",
        "  return score, observations"
      ],
      "metadata": {
        "id": "LcOmjN9OtBLl"
      },
      "execution_count": null,
      "outputs": []
    },
    {
      "cell_type": "markdown",
      "source": [
        "### Function to play game for `size` episodes\n"
      ],
      "metadata": {
        "id": "lJbNSoevzCks"
      }
    },
    {
      "cell_type": "code",
      "source": [
        "def play_game_episodes(env, policy, size):\n",
        "  total_score = []\n",
        "  for i in range (size):\n",
        "    score, observation = play_game(env, policy)\n",
        "    total_score.append(score)\n",
        "  return total_score"
      ],
      "metadata": {
        "id": "NAyfiBHpzM15"
      },
      "execution_count": null,
      "outputs": []
    },
    {
      "cell_type": "markdown",
      "source": [
        "### Play game for 100 episodes"
      ],
      "metadata": {
        "id": "RYsj0xLw0Hu2"
      }
    },
    {
      "cell_type": "code",
      "source": [
        "policy = np.random.rand(1,4) #Currently using a random policy - delete this once policy is set in Task 1\n",
        "episode_results = play_game_episodes(env, policy, 100)\n",
        "print(episode_results)\n"
      ],
      "metadata": {
        "colab": {
          "base_uri": "https://localhost:8080/"
        },
        "id": "R_oDchYLvGDl",
        "outputId": "cdb174bf-ef77-4054-8695-8e0fcf6a3366"
      },
      "execution_count": null,
      "outputs": [
        {
          "output_type": "stream",
          "name": "stdout",
          "text": [
            "[348.0, 222.0, 212.0, 408.0, 417.0, 112.0, 231.0, 314.0, 209.0, 158.0, 299.0, 262.0, 214.0, 39.0, 204.0, 184.0, 371.0, 226.0, 254.0, 193.0, 463.0, 210.0, 255.0, 132.0, 43.0, 220.0, 218.0, 56.0, 240.0, 238.0, 138.0, 293.0, 273.0, 447.0, 220.0, 306.0, 172.0, 61.0, 252.0, 216.0, 332.0, 161.0, 207.0, 98.0, 196.0, 106.0, 231.0, 91.0, 212.0, 184.0, 342.0, 142.0, 355.0, 290.0, 311.0, 284.0, 203.0, 222.0, 112.0, 184.0, 262.0, 357.0, 217.0, 221.0, 314.0, 238.0, 138.0, 181.0, 114.0, 82.0, 80.0, 305.0, 230.0, 136.0, 271.0, 499.0, 385.0, 161.0, 158.0, 420.0, 235.0, 355.0, 210.0, 387.0, 349.0, 252.0, 318.0, 276.0, 361.0, 150.0, 190.0, 35.0, 204.0, 215.0, 412.0, 282.0, 184.0, 197.0, 258.0, 200.0]\n"
          ]
        }
      ]
    },
    {
      "cell_type": "markdown",
      "source": [
        "### Plot the reward for each round"
      ],
      "metadata": {
        "id": "8fvP_vANwwUf"
      }
    },
    {
      "cell_type": "code",
      "source": [
        "#episode_results = np.random.randint(150, 250, size=100)\n",
        "plt.plot(episode_results)\n",
        "plt.title('Cumulative reward for each episode')\n",
        "plt.ylabel('Cumulative reward')\n",
        "plt.xlabel('episode')\n",
        "plt.show()"
      ],
      "metadata": {
        "colab": {
          "base_uri": "https://localhost:8080/",
          "height": 295
        },
        "id": "RZrCKywQi6CE",
        "outputId": "99ba565c-0e01-4a43-b9d3-97ebae1ad1f0"
      },
      "execution_count": null,
      "outputs": [
        {
          "output_type": "display_data",
          "data": {
            "text/plain": [
              "<Figure size 432x288 with 1 Axes>"
            ],
            "image/png": "[encoded data removed]"
          },
          "metadata": {
            "needs_background": "light"
          }
        }
      ]
    },
    {
      "cell_type": "markdown",
      "source": [
        "Print the average reward over the 100 episodes."
      ],
      "metadata": {
        "id": "XndSYH7wlvn7"
      }
    },
    {
      "cell_type": "code",
      "source": [
        "print(\"Average cumulative reward:\", episode_results.mean())\n",
        "print(\"Is my agent good enough?\", episode_results.mean() > 195)"
      ],
      "metadata": {
        "colab": {
          "base_uri": "https://localhost:8080/"
        },
        "id": "pOiOp9OYlo5Y",
        "outputId": "5b734f54-5f40-4841-f214-3b58d8272a7d"
      },
      "execution_count": null,
      "outputs": [
        {
          "output_type": "stream",
          "name": "stdout",
          "text": [
            "Average cumulative reward: 197.63\n",
            "Is my agent good enough? True\n"
          ]
        }
      ]
    },
    {
      "cell_type": "markdown",
      "source": [
        "## Task 3: Render one episode played by the agent"
      ],
      "metadata": {
        "id": "Yg0DCT38lFA6"
      }
    },
    {
      "cell_type": "markdown",
      "source": [
        "Plug your agent to the code below to obtain rendered result."
      ],
      "metadata": {
        "id": "vx1awMr9lc_w"
      }
    },
    {
      "cell_type": "code",
      "source": [
        "env = RecordVideo(gym.make(\"CartPole-v1\"), \"./video\")\n",
        "observation = env.reset()\n",
        "while True:\n",
        "    env.render()\n",
        "    #your agent goes here\n",
        "    action = policy_agent(observation)\n",
        "    observation, reward, done, info = env.step(action) \n",
        "    if done: \n",
        "      break;    \n",
        "env.close()\n",
        "show_video()"
      ],
      "metadata": {
        "colab": {
          "base_uri": "https://localhost:8080/",
          "height": 421
        },
        "id": "LYyavfbIa47D",
        "outputId": "fed43f2a-8b66-476c-f096-d8275ad95f1a"
      },
      "execution_count": null,
      "outputs": [
        {
          "output_type": "display_data",
          "data": {
            "text/plain": [
              "<IPython.core.display.HTML object>"
            ],
            "text/html": [
              "<video alt=\"test\" autoplay \n",
              "                loop controls style=\"height: 400px;\">\n",
              "                <source src=\"data:video/mp4;base64,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\" type=\"video/mp4\" />\n",
              "             </video>"
            ]
          },
          "metadata": {}
        }
      ]
    }
  ]
}